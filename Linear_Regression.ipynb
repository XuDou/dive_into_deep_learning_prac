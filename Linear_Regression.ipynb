{
  "nbformat": 4,
  "nbformat_minor": 0,
  "metadata": {
    "colab": {
      "name": "Linear_Regression.ipynb",
      "version": "0.3.2",
      "provenance": [],
      "collapsed_sections": [],
      "include_colab_link": true
    },
    "kernelspec": {
      "name": "python3",
      "display_name": "Python 3"
    }
  },
  "cells": [
    {
      "cell_type": "markdown",
      "metadata": {
        "id": "view-in-github",
        "colab_type": "text"
      },
      "source": [
        "<a href=\"https://colab.research.google.com/github/XuDou/dive_into_deep_learning_prac/blob/master/Linear_Regression.ipynb\" target=\"_parent\"><img src=\"https://colab.research.google.com/assets/colab-badge.svg\" alt=\"Open In Colab\"/></a>"
      ]
    },
    {
      "cell_type": "code",
      "metadata": {
        "id": "G4lzbUvYYjTD",
        "colab_type": "code",
        "outputId": "e3a1704c-9e77-4f47-8d61-4d15a067b29c",
        "colab": {
          "base_uri": "https://localhost:8080/",
          "height": 565
        }
      },
      "source": [
        "!pip install mxnet-cu100"
      ],
      "execution_count": 0,
      "outputs": [
        {
          "output_type": "stream",
          "text": [
            "Collecting mxnet-cu100\n",
            "\u001b[?25l  Downloading https://files.pythonhosted.org/packages/19/91/b5c2692297aa5b8c383e0da18f9208fc6d5519d981c03266abfbde897c41/mxnet_cu100-1.4.1-py2.py3-none-manylinux1_x86_64.whl (488.3MB)\n",
            "\u001b[K     |████████████████████████████████| 488.3MB 30kB/s \n",
            "\u001b[?25hCollecting graphviz<0.9.0,>=0.8.1 (from mxnet-cu100)\n",
            "  Downloading https://files.pythonhosted.org/packages/53/39/4ab213673844e0c004bed8a0781a0721a3f6bb23eb8854ee75c236428892/graphviz-0.8.4-py2.py3-none-any.whl\n",
            "Requirement already satisfied: requests>=2.20.0 in /usr/local/lib/python3.6/dist-packages (from mxnet-cu100) (2.21.0)\n",
            "Collecting numpy<1.15.0,>=1.8.2 (from mxnet-cu100)\n",
            "\u001b[?25l  Downloading https://files.pythonhosted.org/packages/e5/c4/395ebb218053ba44d64935b3729bc88241ec279915e72100c5979db10945/numpy-1.14.6-cp36-cp36m-manylinux1_x86_64.whl (13.8MB)\n",
            "\u001b[K     |████████████████████████████████| 13.8MB 29.7MB/s \n",
            "\u001b[?25hRequirement already satisfied: urllib3<1.25,>=1.21.1 in /usr/local/lib/python3.6/dist-packages (from requests>=2.20.0->mxnet-cu100) (1.24.3)\n",
            "Requirement already satisfied: idna<2.9,>=2.5 in /usr/local/lib/python3.6/dist-packages (from requests>=2.20.0->mxnet-cu100) (2.8)\n",
            "Requirement already satisfied: certifi>=2017.4.17 in /usr/local/lib/python3.6/dist-packages (from requests>=2.20.0->mxnet-cu100) (2019.3.9)\n",
            "Requirement already satisfied: chardet<3.1.0,>=3.0.2 in /usr/local/lib/python3.6/dist-packages (from requests>=2.20.0->mxnet-cu100) (3.0.4)\n",
            "\u001b[31mERROR: spacy 2.0.18 has requirement numpy>=1.15.0, but you'll have numpy 1.14.6 which is incompatible.\u001b[0m\n",
            "\u001b[31mERROR: imgaug 0.2.9 has requirement numpy>=1.15.0, but you'll have numpy 1.14.6 which is incompatible.\u001b[0m\n",
            "\u001b[31mERROR: fastai 1.0.52 has requirement numpy>=1.15, but you'll have numpy 1.14.6 which is incompatible.\u001b[0m\n",
            "\u001b[31mERROR: datascience 0.10.6 has requirement folium==0.2.1, but you'll have folium 0.8.3 which is incompatible.\u001b[0m\n",
            "\u001b[31mERROR: albumentations 0.1.12 has requirement imgaug<0.2.7,>=0.2.5, but you'll have imgaug 0.2.9 which is incompatible.\u001b[0m\n",
            "Installing collected packages: graphviz, numpy, mxnet-cu100\n",
            "  Found existing installation: graphviz 0.10.1\n",
            "    Uninstalling graphviz-0.10.1:\n",
            "      Successfully uninstalled graphviz-0.10.1\n",
            "  Found existing installation: numpy 1.16.4\n",
            "    Uninstalling numpy-1.16.4:\n",
            "      Successfully uninstalled numpy-1.16.4\n",
            "Successfully installed graphviz-0.8.4 mxnet-cu100-1.4.1 numpy-1.14.6\n"
          ],
          "name": "stdout"
        },
        {
          "output_type": "display_data",
          "data": {
            "application/vnd.colab-display-data+json": {
              "pip_warning": {
                "packages": [
                  "numpy"
                ]
              }
            }
          },
          "metadata": {
            "tags": []
          }
        }
      ]
    },
    {
      "cell_type": "code",
      "metadata": {
        "id": "2LVNCNy7qmux",
        "colab_type": "code",
        "colab": {}
      },
      "source": [
        "import mxnet as mx; mx.__version__"
      ],
      "execution_count": 0,
      "outputs": []
    },
    {
      "cell_type": "code",
      "metadata": {
        "id": "IgaG1NQyrCW2",
        "colab_type": "code",
        "colab": {}
      },
      "source": [
        "import random \n",
        "import numpy as np\n",
        "import matplotlib.pyplot as plt\n",
        "import tensorflow as tf"
      ],
      "execution_count": 0,
      "outputs": []
    },
    {
      "cell_type": "code",
      "metadata": {
        "id": "4KPjIZRvrTqj",
        "colab_type": "code",
        "colab": {}
      },
      "source": [
        "tf.enable_eager_execution()"
      ],
      "execution_count": 0,
      "outputs": []
    },
    {
      "cell_type": "markdown",
      "metadata": {
        "id": "5k4wSTtKIilj",
        "colab_type": "text"
      },
      "source": [
        "We want to generate a sythetic dataset according to \\\\\n",
        "$\\mathbf{y}=\\mathbf{X}\\mathbf{w}+b+\\epsilon$"
      ]
    },
    {
      "cell_type": "code",
      "metadata": {
        "id": "oG3DW6oNL-zB",
        "colab_type": "code",
        "colab": {}
      },
      "source": [
        "shape = [1000,2]             #'''1000 data points, two features'''\n",
        "true_w = np.array([[2], [-3.4]]) #''' the true value of w'''\n",
        "true_b = 4.2                 #'''the true value of the bias'''\n",
        "X = tf.Variable(tf.random.normal(\n",
        "    shape,\n",
        "    mean=0,\n",
        "    stddev=1.0,\n",
        "    dtype=tf.dtypes.float64,\n",
        "    seed=None,\n",
        "    name=None\n",
        "))\n",
        "epsilon = tf.Variable(tf.random.normal([1000,1],mean=0,stddev=0.01,dtype=tf.dtypes.float64))\n",
        "label_y = tf.Variable(tf.matmul(X,true_w) + true_b + tf.random.normal([1000,1],mean=0,stddev=0.01,dtype=tf.dtypes.float64))"
      ],
      "execution_count": 0,
      "outputs": []
    },
    {
      "cell_type": "code",
      "metadata": {
        "id": "-aLowpB1r1Hk",
        "colab_type": "code",
        "outputId": "a6a9fa74-87f1-4b81-ac90-d0d20444497b",
        "colab": {
          "base_uri": "https://localhost:8080/",
          "height": 136
        }
      },
      "source": [
        "X.numpy()"
      ],
      "execution_count": 4,
      "outputs": [
        {
          "output_type": "execute_result",
          "data": {
            "text/plain": [
              "array([[-1.04564149,  0.05814104],\n",
              "       [ 0.45334944,  0.84712352],\n",
              "       [ 0.77658575,  0.94394262],\n",
              "       ...,\n",
              "       [-0.01260637, -0.11663877],\n",
              "       [ 0.31822316,  0.97059077],\n",
              "       [ 1.25887613, -0.447311  ]])"
            ]
          },
          "metadata": {
            "tags": []
          },
          "execution_count": 4
        }
      ]
    },
    {
      "cell_type": "code",
      "metadata": {
        "id": "uyfB2MM2r4f4",
        "colab_type": "code",
        "colab": {}
      },
      "source": [
        "label_y;"
      ],
      "execution_count": 0,
      "outputs": []
    },
    {
      "cell_type": "code",
      "metadata": {
        "id": "d0YT0oa6XbGF",
        "colab_type": "code",
        "outputId": "652ff7db-3c86-4960-a6c2-bd2e5882399f",
        "colab": {
          "base_uri": "https://localhost:8080/",
          "height": 357
        }
      },
      "source": [
        "#init = tf.initializers.global_variables()\n",
        "\n",
        "\n",
        "#with tf.Session() as sess:\n",
        " # sess.run(init) \n",
        "plt.scatter(X[:,1].numpy(),label_y.numpy(),1)\n",
        "  \n",
        " \n",
        "  "
      ],
      "execution_count": 5,
      "outputs": [
        {
          "output_type": "stream",
          "text": [
            "WARNING:tensorflow:From /usr/local/lib/python3.6/dist-packages/tensorflow/python/ops/resource_variable_ops.py:642: colocate_with (from tensorflow.python.framework.ops) is deprecated and will be removed in a future version.\n",
            "Instructions for updating:\n",
            "Colocations handled automatically by placer.\n"
          ],
          "name": "stdout"
        },
        {
          "output_type": "execute_result",
          "data": {
            "text/plain": [
              "<matplotlib.collections.PathCollection at 0x7f854edd6470>"
            ]
          },
          "metadata": {
            "tags": []
          },
          "execution_count": 5
        },
        {
          "output_type": "display_data",
          "data": {
            "image/png": "[encoded data removed]",
            "text/plain": [
              "<Figure size 432x288 with 1 Axes>"
            ]
          },
          "metadata": {
            "tags": []
          }
        }
      ]
    },
    {
      "cell_type": "code",
      "metadata": {
        "id": "GQTTq38jFWDw",
        "colab_type": "code",
        "colab": {}
      },
      "source": [
        "# Define a loss function\n",
        "\n",
        "def loss(y_hat,y_predicted):\n",
        "  return tf.reduce_mean(tf.square(y_hat - y_predicted))"
      ],
      "execution_count": 0,
      "outputs": []
    },
    {
      "cell_type": "code",
      "metadata": {
        "id": "J-fyLH0SoOgz",
        "colab_type": "code",
        "colab": {}
      },
      "source": [
        "class linear_model():\n",
        "  def __init__(self):\n",
        "    self.w = tf.Variable(tf.random.normal(shape = [2],dtype=tf.dtypes.float64))\n",
        "    self.b = tf.Variable(tf.random.normal(shape= [],dtype=tf.dtypes.float64))\n",
        "    \n",
        "  def __call__(self,x):\n",
        "    return tf.multiply(self.w,x) + self.b\n",
        "  \n",
        "  def init_values(self):\n",
        "    print(\"w:\",self.w.numpy(),\"\\n\",\"b:\",self.b.numpy())\n",
        "  "
      ],
      "execution_count": 0,
      "outputs": []
    },
    {
      "cell_type": "code",
      "metadata": {
        "id": "Qazt62qcF8SS",
        "colab_type": "code",
        "colab": {}
      },
      "source": [
        "model = linear_model()\n",
        "#model([[1.0,2.0],[1.2,2.3]]).numpy()"
      ],
      "execution_count": 0,
      "outputs": []
    },
    {
      "cell_type": "code",
      "metadata": {
        "id": "ZuB0X09JEBOO",
        "colab_type": "code",
        "outputId": "39704e00-bd4a-4148-ae07-271b7ea1c1c9",
        "colab": {
          "base_uri": "https://localhost:8080/",
          "height": 34
        }
      },
      "source": [
        "a =  tf.Variable([3.1,2])\n",
        "a.shape"
      ],
      "execution_count": 0,
      "outputs": [
        {
          "output_type": "execute_result",
          "data": {
            "text/plain": [
              "TensorShape([Dimension(2)])"
            ]
          },
          "metadata": {
            "tags": []
          },
          "execution_count": 49
        }
      ]
    },
    {
      "cell_type": "code",
      "metadata": {
        "id": "NRQZuDlbJAD2",
        "colab_type": "code",
        "outputId": "5e446094-b9be-4882-87d4-56ea9c26d1a5",
        "colab": {
          "base_uri": "https://localhost:8080/",
          "height": 51
        }
      },
      "source": [
        "model.init_values()"
      ],
      "execution_count": 8,
      "outputs": [
        {
          "output_type": "stream",
          "text": [
            "w: [ 0.62549179 -0.97284061] \n",
            " b: 0.24867671770221345\n"
          ],
          "name": "stdout"
        }
      ]
    },
    {
      "cell_type": "code",
      "metadata": {
        "id": "uCEtYckuG-JE",
        "colab_type": "code",
        "colab": {}
      },
      "source": [
        "def train(model, inputs, outputs, learning_rate):\n",
        "  with tf.GradientTape() as t:\n",
        "    current_loss = loss(model(inputs), outputs)\n",
        "    dw, db = t.gradient(current_loss, [model.w, model.b])\n",
        "    \n",
        "    model.w.assign_sub(learning_rate * dw)\n",
        "    model.b.assign_sub(learning_rate * db)\n",
        "  "
      ],
      "execution_count": 0,
      "outputs": []
    },
    {
      "cell_type": "code",
      "metadata": {
        "id": "5n9nQfx4G-QQ",
        "colab_type": "code",
        "colab": {
          "base_uri": "https://localhost:8080/",
          "height": 598
        },
        "outputId": "3694a1ec-031a-49d5-b2bc-2c2b5a2eeff4"
      },
      "source": [
        "\n",
        "# Training!\n",
        "\n",
        "ws, bs = [], []\n",
        "epochs = range(30)\n",
        "for epoch in epochs:\n",
        "  ws.append(model.w.numpy())\n",
        "  bs.append(model.b.numpy())\n",
        "  current_loss = loss(model(X), label_y)\n",
        "  \n",
        "  train(model, X, label_y, learning_rate = 0.1)\n",
        "  print('Epoch %2d: w=%s b=%.2f, loss=%.3f' %(epoch, ws[-1], bs[-1], current_loss))\n",
        "  \n",
        "  \n"
      ],
      "execution_count": 10,
      "outputs": [
        {
          "output_type": "stream",
          "text": [
            "WARNING:tensorflow:From /usr/local/lib/python3.6/dist-packages/tensorflow/python/ops/resource_variable_ops.py:642: colocate_with (from tensorflow.python.framework.ops) is deprecated and will be removed in a future version.\n",
            "Instructions for updating:\n",
            "Colocations handled automatically by placer.\n",
            "Epoch  0: w=[ 0.62549179 -0.97284061] b=0.25, loss=26.514\n",
            "Epoch  1: w=[ 0.75052857 -1.20798714] b=1.02, loss=20.488\n",
            "Epoch  2: w=[ 0.86469402 -1.42094033] b=1.64, loss=16.498\n",
            "Epoch  3: w=[ 0.96875151 -1.61362459] b=2.13, loss=13.838\n",
            "Epoch  4: w=[ 1.06345256 -1.78783399] b=2.53, loss=12.049\n",
            "Epoch  5: w=[ 1.14952513 -1.94523257] b=2.85, loss=10.834\n",
            "Epoch  6: w=[ 1.22766576 -2.08735716] b=3.10, loss=10.000\n",
            "Epoch  7: w=[ 1.29853436 -2.21562202] b=3.30, loss=9.420\n",
            "Epoch  8: w=[ 1.36275136 -2.33132464] b=3.47, loss=9.012\n",
            "Epoch  9: w=[ 1.42089633 -2.43565227] b=3.60, loss=8.721\n",
            "Epoch 10: w=[ 1.47350786 -2.52968887] b=3.70, loss=8.510\n",
            "Epoch 11: w=[ 1.52108428 -2.6144222 ] b=3.79, loss=8.356\n",
            "Epoch 12: w=[ 1.56408496 -2.6907508 ] b=3.86, loss=8.241\n",
            "Epoch 13: w=[ 1.60293206 -2.75949092] b=3.91, loss=8.155\n",
            "Epoch 14: w=[ 1.63801253 -2.82138309] b=3.96, loss=8.089\n",
            "Epoch 15: w=[ 1.66968018 -2.87709841] b=3.99, loss=8.039\n",
            "Epoch 16: w=[ 1.69825798 -2.92724447] b=4.02, loss=8.000\n",
            "Epoch 17: w=[ 1.72404015 -2.97237088] b=4.04, loss=7.969\n",
            "Epoch 18: w=[ 1.74729441 -3.01297447] b=4.06, loss=7.946\n",
            "Epoch 19: w=[ 1.76826401 -3.04950402] b=4.08, loss=7.927\n",
            "Epoch 20: w=[ 1.78716972 -3.08236469] b=4.09, loss=7.912\n",
            "Epoch 21: w=[ 1.80421174 -3.1119221 ] b=4.10, loss=7.900\n",
            "Epoch 22: w=[ 1.81957144 -3.13850598] b=4.11, loss=7.890\n",
            "Epoch 23: w=[ 1.83341301 -3.16241365] b=4.11, loss=7.883\n",
            "Epoch 24: w=[ 1.84588501 -3.18391304] b=4.12, loss=7.877\n",
            "Epoch 25: w=[ 1.85712175 -3.20324557] b=4.12, loss=7.872\n",
            "Epoch 26: w=[ 1.86724462 -3.22062869] b=4.13, loss=7.868\n",
            "Epoch 27: w=[ 1.87636326 -3.23625822] b=4.13, loss=7.865\n",
            "Epoch 28: w=[ 1.8845767  -3.25031046] b=4.13, loss=7.862\n",
            "Epoch 29: w=[ 1.89197429 -3.2629441 ] b=4.13, loss=7.860\n"
          ],
          "name": "stdout"
        }
      ]
    },
    {
      "cell_type": "code",
      "metadata": {
        "id": "UEbwMopdplVJ",
        "colab_type": "code",
        "colab": {
          "base_uri": "https://localhost:8080/",
          "height": 286
        },
        "outputId": "e342b1bd-2d68-4962-bca6-42f8262c79eb"
      },
      "source": [
        "horizontal_0 = range(-4,5)\n",
        "plt.plot(horizontal_0, model.w.numpy()[0] * horizontal_0 + model.b.numpy(), 'r-')\n",
        "plt.scatter(X[:,0].numpy(),label_y.numpy(),1)"
      ],
      "execution_count": 19,
      "outputs": [
        {
          "output_type": "execute_result",
          "data": {
            "text/plain": [
              "<matplotlib.collections.PathCollection at 0x7f5dec5646d8>"
            ]
          },
          "metadata": {
            "tags": []
          },
          "execution_count": 19
        },
        {
          "output_type": "display_data",
          "data": {
            "image/png": "[encoded data removed]",
            "text/plain": [
              "<Figure size 432x288 with 1 Axes>"
            ]
          },
          "metadata": {
            "tags": []
          }
        }
      ]
    },
    {
      "cell_type": "code",
      "metadata": {
        "id": "_Z5pPpT6G-TY",
        "colab_type": "code",
        "colab": {
          "base_uri": "https://localhost:8080/",
          "height": 286
        },
        "outputId": "d3755083-81df-4960-da33-d3ca4fe32df7"
      },
      "source": [
        "horizontal_1 = range(-4,5)\n",
        "plt.plot(horizontal_1, model.w.numpy()[1] * horizontal_1 + model.b.numpy(), 'r-')\n",
        "plt.scatter(X[:,1].numpy(),label_y.numpy(),1)"
      ],
      "execution_count": 18,
      "outputs": [
        {
          "output_type": "execute_result",
          "data": {
            "text/plain": [
              "<matplotlib.collections.PathCollection at 0x7f5dec586160>"
            ]
          },
          "metadata": {
            "tags": []
          },
          "execution_count": 18
        },
        {
          "output_type": "display_data",
          "data": {
            "image/png": "[encoded data removed]",
            "text/plain": [
              "<Figure size 432x288 with 1 Axes>"
            ]
          },
          "metadata": {
            "tags": []
          }
        }
      ]
    },
    {
      "cell_type": "code",
      "metadata": {
        "id": "LSk58vpgG-V6",
        "colab_type": "code",
        "colab": {
          "base_uri": "https://localhost:8080/",
          "height": 34
        },
        "outputId": "3b3f1c80-305b-4122-eea3-8a13f6929ba4"
      },
      "source": [
        "model.w.numpy()[1]"
      ],
      "execution_count": 12,
      "outputs": [
        {
          "output_type": "execute_result",
          "data": {
            "text/plain": [
              "-3.2743019693976265"
            ]
          },
          "metadata": {
            "tags": []
          },
          "execution_count": 12
        }
      ]
    },
    {
      "cell_type": "code",
      "metadata": {
        "id": "9QU3BUSBG-ZI",
        "colab_type": "code",
        "colab": {}
      },
      "source": [
        ""
      ],
      "execution_count": 0,
      "outputs": []
    },
    {
      "cell_type": "code",
      "metadata": {
        "id": "Vp_i74vXeeey",
        "colab_type": "code",
        "colab": {}
      },
      "source": [
        ""
      ],
      "execution_count": 0,
      "outputs": []
    }
  ]
}